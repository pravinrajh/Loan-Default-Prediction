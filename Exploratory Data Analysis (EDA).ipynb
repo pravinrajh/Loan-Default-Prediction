## Exploratory Data Analysis (EDA)
import numpy as np
import seaborn as sns
import matplotlib.pyplot as plt
import pandas as pd
import warnings

warnings.filterwarnings("ignore")

# Load the new dataset
df = pd.read_csv("new_loan_application_data.csv")
print("The total shape of the dataframe:", df.shape)

# Convert column names to lowercase
df.columns = df.columns.str.lower()

# Loan status distribution
sns.countplot(data=df, x='loan_status')
plt.title("Loan Status Distribution")
plt.show()

# KDE plot for annual income
df['annual_income'].plot(kind='kde', title='Annual Income Distribution')
plt.xlabel('Annual Income')
plt.show()

# Separate defaulted and non-defaulted applicants
defaulted_df = df[df['loan_status'] == 'Rejected']
non_defaulted_df = df[df['loan_status'] == 'Approved']

print("Defaulted applications:", defaulted_df.shape)
print("Non-defaulted applications:", non_defaulted_df.shape)

# Loan purpose distribution
sns.countplot(data=df, x='purpose')
plt.xticks(rotation=30)
plt.title("Loan Purpose Distribution")
plt.show()

# KDE plot for income distribution for defaulted and non-defaulted applicants
sns.kdeplot(data=defaulted_df, x='annual_income', label='Defaulted', shade=True)
sns.kdeplot(data=non_defaulted_df, x='annual_income', label='Non-Defaulted', shade=True)
plt.legend()
plt.title("Income Distribution by Loan Status")
plt.show()

# Education distribution
sns.countplot(data=df, x='education')
plt.xticks(rotation=30)
plt.title("Education Level Distribution")
plt.show()

# Pie chart for education levels
total = df['education'].value_counts().sum()
plt.pie(df['education'].value_counts(), labels=df['education'].value_counts().index,
        autopct=lambda p: '{:.0f}'.format(p * total / 100),
        startangle=0, explode=[0, 0, 0, 0.2, 0], shadow=True)
plt.title("Education Level Distribution (Pie Chart)")
plt.show()

# Pie chart for education levels among defaulted applicants
plt.pie(defaulted_df['education'].value_counts(), labels=defaulted_df['education'].value_counts().index,
        explode=[0, 0, 0, 0.2, 0], shadow=True, colors=['violet', 'orange', 'green', 'blue', 'purple'])
plt.title("Education Level Distribution Among Defaulted Applicants")
plt.show()
